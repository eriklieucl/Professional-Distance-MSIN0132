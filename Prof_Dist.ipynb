{
 "cells": [
  {
   "cell_type": "code",
   "execution_count": 1,
   "id": "f95e7041",
   "metadata": {},
   "outputs": [
    {
     "name": "stderr",
     "output_type": "stream",
     "text": [
      "[nltk_data] Downloading package stopwords to\n",
      "[nltk_data]     C:\\Users\\lieje\\AppData\\Roaming\\nltk_data...\n",
      "[nltk_data]   Package stopwords is already up-to-date!\n",
      "[nltk_data] Downloading package punkt to\n",
      "[nltk_data]     C:\\Users\\lieje\\AppData\\Roaming\\nltk_data...\n",
      "[nltk_data]   Package punkt is already up-to-date!\n"
     ]
    }
   ],
   "source": [
    "import nltk\n",
    "nltk.download('stopwords')\n",
    "nltk.download('punkt')\n",
    "from nltk.corpus import stopwords\n",
    "from nltk.probability import FreqDist\n",
    "import gensim\n",
    "from gensim.models.doc2vec import TaggedDocument\n",
    "from gensim.test.utils import common_texts\n",
    "import string\n",
    "\n",
    "def preprocessing(raw):\n",
    "    raw = \"\".join([s for s in raw if s in string.ascii_letters + string.digits + ' '])\n",
    "    wordlist = nltk.word_tokenize(raw)\n",
    "    text = [w.lower() for w in wordlist if w not in stopwords_en]\n",
    "    return text\n",
    "\n",
    "stopwords_en = stopwords.words(\"english\")\n",
    "n = 6\n",
    "text = [\"\"]*n\n",
    "\n",
    "for i in range(0,n):\n",
    "    text[i] = preprocessing(open(str(i+1) + '.txt', 'r', encoding = 'utf8').read())\n",
    "    \n",
    "word_set = set(text[0])\n",
    "freqd_text = [\"\"]*n\n",
    "text_count_dict = [\"\"]*n\n",
    "\n",
    "for i in range(1,n):\n",
    "    word_set = word_set.union(set(text[i]))\n",
    "\n",
    "for i in range(0,n):\n",
    "    freqd_text[i] = FreqDist(text[i])\n",
    "    text_count_dict[i] = dict.fromkeys(word_set,0)\n",
    "    for word in text[i]:\n",
    "        text_count_dict[i][word] = freqd_text[i][word]\n",
    "\n",
    "taggeddocs = []\n",
    "doc = [\"\"]*n\n",
    "\n",
    "for i in range(0,n):\n",
    "    doc[i] = TaggedDocument(words=text[i], tags=[u'NEWS_' + str(i+1)])\n",
    "    taggeddocs.append(doc[i])\n",
    "\n",
    "documents = [TaggedDocument(doc, [i]) for i, doc in enumerate(common_texts)]\n",
    "\n",
    "#build the model\n",
    "model = gensim.models.Doc2Vec(taggeddocs, dm=0, alpha=0.025, vector_size=20, min_alpha=0.025, min_count=0)\n",
    "\n",
    "model.train(taggeddocs, total_examples=model.corpus_count, epochs=80)\n",
    "\n",
    "prof_dist = { (i,j):0 for i in range(n) for j in range(n-1) }\n",
    "\n",
    "for i in range(0,n):\n",
    "    for j in range(0,n):\n",
    "        prof_dist[i,j] = 1 - model.wv.n_similarity(text[i],text[j])"
   ]
  },
  {
   "cell_type": "code",
   "execution_count": 2,
   "id": "2fdc21df",
   "metadata": {},
   "outputs": [
    {
     "data": {
      "text/plain": [
       "{(0, 0): 0.0,\n",
       " (0, 1): 0.23819655179977417,\n",
       " (0, 2): 0.3176795244216919,\n",
       " (0, 3): 0.6138418614864349,\n",
       " (0, 4): 0.5135065913200378,\n",
       " (1, 0): 0.23819655179977417,\n",
       " (1, 1): 0.0,\n",
       " (1, 2): 0.4131985902786255,\n",
       " (1, 3): 0.5552542507648468,\n",
       " (1, 4): 0.5778239667415619,\n",
       " (2, 0): 0.3176795244216919,\n",
       " (2, 1): 0.4131985902786255,\n",
       " (2, 2): 0.0,\n",
       " (2, 3): 0.5611876547336578,\n",
       " (2, 4): 0.6055519580841064,\n",
       " (3, 0): 0.6138418614864349,\n",
       " (3, 1): 0.5552542507648468,\n",
       " (3, 2): 0.5611876547336578,\n",
       " (3, 3): 5.960464477539063e-08,\n",
       " (3, 4): 0.45576709508895874,\n",
       " (4, 0): 0.5135065913200378,\n",
       " (4, 1): 0.5778239667415619,\n",
       " (4, 2): 0.6055519580841064,\n",
       " (4, 3): 0.45576709508895874,\n",
       " (4, 4): 0.0,\n",
       " (5, 0): 0.8538363426923752,\n",
       " (5, 1): 0.8970391303300858,\n",
       " (5, 2): 1.0701327323913574,\n",
       " (5, 3): 0.5618630051612854,\n",
       " (5, 4): 0.477344274520874,\n",
       " (0, 5): 0.8538363426923752,\n",
       " (1, 5): 0.8970391303300858,\n",
       " (2, 5): 1.0701327323913574,\n",
       " (3, 5): 0.5618630051612854,\n",
       " (4, 5): 0.477344274520874,\n",
       " (5, 5): 0.0}"
      ]
     },
     "execution_count": 2,
     "metadata": {},
     "output_type": "execute_result"
    }
   ],
   "source": [
    "prof_dist"
   ]
  },
  {
   "cell_type": "code",
   "execution_count": 3,
   "id": "fd74af93",
   "metadata": {},
   "outputs": [],
   "source": [
    "pca_input = [[0 for x in range(n)] for y in range(n)] \n",
    "\n",
    "for i in range(0,n):\n",
    "    for j in range(0,n):\n",
    "        pca_input[i][j] = prof_dist[i,j]"
   ]
  },
  {
   "cell_type": "code",
   "execution_count": 4,
   "id": "227a161c",
   "metadata": {},
   "outputs": [
    {
     "name": "stdout",
     "output_type": "stream",
     "text": [
      "[[ 0.42735839  0.42146481  0.51481359 -0.0944107  -0.14331597 -0.58757668]\n",
      " [ 0.31557228  0.21503877 -0.34940902 -0.82135959 -0.07458621  0.22779622]]\n"
     ]
    }
   ],
   "source": [
    "from sklearn.decomposition import PCA\n",
    "pca = PCA(n_components=2)\n",
    "pca.fit(pca_input)\n",
    "print(pca.components_)"
   ]
  },
  {
   "cell_type": "code",
   "execution_count": 5,
   "id": "e825dab6",
   "metadata": {},
   "outputs": [
    {
     "data": {
      "image/png": "[encoded data removed]",
      "text/plain": [
       "<Figure size 640x480 with 1 Axes>"
      ]
     },
     "metadata": {},
     "output_type": "display_data"
    }
   ],
   "source": [
    "import matplotlib.pyplot as plt\n",
    "x = pca.components_[0]\n",
    "y = pca.components_[1]\n",
    "n = [\"SE\",\"EE\",\"DS\",\"F\",\"D\", \"G\"]\n",
    "\n",
    "fig, ax = plt.subplots()\n",
    "ax.scatter(x, y)\n",
    "\n",
    "for i, txt in enumerate(n):\n",
    "    ax.annotate(txt, (x[i], y[i]))\n"
   ]
  },
  {
   "cell_type": "code",
   "execution_count": null,
   "id": "32fded7d",
   "metadata": {},
   "outputs": [],
   "source": []
  }
 ],
 "metadata": {
  "kernelspec": {
   "display_name": "Python 3 (ipykernel)",
   "language": "python",
   "name": "python3"
  },
  "language_info": {
   "codemirror_mode": {
    "name": "ipython",
    "version": 3
   },
   "file_extension": ".py",
   "mimetype": "text/x-python",
   "name": "python",
   "nbconvert_exporter": "python",
   "pygments_lexer": "ipython3",
   "version": "3.9.13"
  }
 },
 "nbformat": 4,
 "nbformat_minor": 5
}
