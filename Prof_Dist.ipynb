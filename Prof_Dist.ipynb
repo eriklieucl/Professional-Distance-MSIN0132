{
 "cells": [
  {
   "cell_type": "code",
   "execution_count": 1,
   "id": "f95e7041",
   "metadata": {},
   "outputs": [
    {
     "name": "stderr",
     "output_type": "stream",
     "text": [
      "[nltk_data] Downloading package stopwords to\n",
      "[nltk_data]     C:\\Users\\lieje\\AppData\\Roaming\\nltk_data...\n",
      "[nltk_data]   Package stopwords is already up-to-date!\n",
      "[nltk_data] Downloading package punkt to\n",
      "[nltk_data]     C:\\Users\\lieje\\AppData\\Roaming\\nltk_data...\n",
      "[nltk_data]   Package punkt is already up-to-date!\n"
     ]
    }
   ],
   "source": [
    "import nltk\n",
    "nltk.download('stopwords')\n",
    "nltk.download('punkt')\n",
    "from nltk.corpus import stopwords\n",
    "from nltk.probability import FreqDist\n",
    "import gensim\n",
    "from gensim.models.doc2vec import TaggedDocument\n",
    "from gensim.test.utils import common_texts\n",
    "import string\n",
    "\n",
    "def preprocessing(raw):\n",
    "    raw = \"\".join([s for s in raw if s in string.ascii_letters + string.digits + ' '])\n",
    "    wordlist = nltk.word_tokenize(raw)\n",
    "    text = [w.lower() for w in wordlist if w not in stopwords_en]\n",
    "    return text\n",
    "\n",
    "stopwords_en = stopwords.words(\"english\")\n",
    "n = 5\n",
    "text = [\"\"]*n\n",
    "\n",
    "for i in range(0,n):\n",
    "    text[i] = preprocessing(open(str(i+1) + '.txt', 'r', encoding = 'utf8').read())\n",
    "    \n",
    "word_set = set(text[0])\n",
    "freqd_text = [\"\"]*n\n",
    "text_count_dict = [\"\"]*n\n",
    "\n",
    "for i in range(1,n):\n",
    "    word_set = word_set.union(set(text[i]))\n",
    "\n",
    "for i in range(0,n):\n",
    "    freqd_text[i] = FreqDist(text[i])\n",
    "    text_count_dict[i] = dict.fromkeys(word_set,0)\n",
    "    for word in text[i]:\n",
    "        text_count_dict[i][word] = freqd_text[i][word]\n",
    "\n",
    "taggeddocs = []\n",
    "doc = [\"\"]*n\n",
    "\n",
    "for i in range(0,n):\n",
    "    doc[i] = TaggedDocument(words=text[i], tags=[u'NEWS_' + str(i+1)])\n",
    "    taggeddocs.append(doc[i])\n",
    "\n",
    "documents = [TaggedDocument(doc, [i]) for i, doc in enumerate(common_texts)]\n",
    "\n",
    "#build the model\n",
    "model = gensim.models.Doc2Vec(taggeddocs, dm=0, alpha=0.025, vector_size=20, min_alpha=0.025, min_count=0)\n",
    "\n",
    "model.train(taggeddocs, total_examples=model.corpus_count, epochs=80)\n",
    "\n",
    "prof_dist = { (i,j):0 for i in range(n) for j in range(n-1) }\n",
    "\n",
    "for i in range(0,n):\n",
    "    for j in range(0,n):\n",
    "        prof_dist[i,j] = 1 - model.wv.n_similarity(text[i],text[j])"
   ]
  },
  {
   "cell_type": "code",
   "execution_count": 2,
   "id": "2fdc21df",
   "metadata": {},
   "outputs": [
    {
     "data": {
      "text/plain": [
       "{(0, 0): 0.0,\n",
       " (0, 1): 0.25026947259902954,\n",
       " (0, 2): 0.3627070188522339,\n",
       " (0, 3): 0.5946167707443237,\n",
       " (1, 0): 0.25026947259902954,\n",
       " (1, 1): 0.0,\n",
       " (1, 2): 0.4604750871658325,\n",
       " (1, 3): 0.7954481095075607,\n",
       " (2, 0): 0.3627070188522339,\n",
       " (2, 1): 0.4604750871658325,\n",
       " (2, 2): 0.0,\n",
       " (2, 3): 0.45737630128860474,\n",
       " (3, 0): 0.5946167707443237,\n",
       " (3, 1): 0.7954481095075607,\n",
       " (3, 2): 0.45737630128860474,\n",
       " (3, 3): 0.0,\n",
       " (4, 0): 0.5575432181358337,\n",
       " (4, 1): 0.8205948024988174,\n",
       " (4, 2): 0.5216577351093292,\n",
       " (4, 3): 0.48923301696777344,\n",
       " (0, 4): 0.5575432181358337,\n",
       " (1, 4): 0.8205948024988174,\n",
       " (2, 4): 0.5216577351093292,\n",
       " (3, 4): 0.48923301696777344,\n",
       " (4, 4): 0.0}"
      ]
     },
     "execution_count": 2,
     "metadata": {},
     "output_type": "execute_result"
    }
   ],
   "source": [
    "prof_dist"
   ]
  },
  {
   "cell_type": "code",
   "execution_count": 3,
   "id": "fd74af93",
   "metadata": {},
   "outputs": [],
   "source": [
    "pca_input = [[0 for x in range(n)] for y in range(n)] \n",
    "\n",
    "for i in range(0,n):\n",
    "    for j in range(0,n):\n",
    "        pca_input[i][j] = prof_dist[i,j]"
   ]
  },
  {
   "cell_type": "code",
   "execution_count": 4,
   "id": "227a161c",
   "metadata": {},
   "outputs": [
    {
     "name": "stdout",
     "output_type": "stream",
     "text": [
      "[[-0.38924118 -0.66694146 -0.07865462  0.44078896  0.45077592]\n",
      " [-0.10026771  0.00748976  0.36212635  0.65638285 -0.65415316]]\n"
     ]
    }
   ],
   "source": [
    "from sklearn.decomposition import PCA\n",
    "pca = PCA(n_components=2)\n",
    "pca.fit(pca_input)\n",
    "print(pca.components_)"
   ]
  },
  {
   "cell_type": "code",
   "execution_count": 5,
   "id": "e825dab6",
   "metadata": {},
   "outputs": [
    {
     "data": {
      "image/png": "[encoded data removed]",
      "text/plain": [
       "<Figure size 640x480 with 1 Axes>"
      ]
     },
     "metadata": {},
     "output_type": "display_data"
    }
   ],
   "source": [
    "import matplotlib.pyplot as plt\n",
    "x = pca.components_[0]\n",
    "y = pca.components_[1]\n",
    "n = [\"SE\",\"EE\",\"DS\",\"F\",\"D\"]\n",
    "\n",
    "fig, ax = plt.subplots()\n",
    "ax.scatter(x, y)\n",
    "\n",
    "for i, txt in enumerate(n):\n",
    "    ax.annotate(txt, (x[i], y[i]))\n"
   ]
  },
  {
   "cell_type": "code",
   "execution_count": null,
   "id": "32fded7d",
   "metadata": {},
   "outputs": [],
   "source": []
  }
 ],
 "metadata": {
  "kernelspec": {
   "display_name": "Python 3 (ipykernel)",
   "language": "python",
   "name": "python3"
  },
  "language_info": {
   "codemirror_mode": {
    "name": "ipython",
    "version": 3
   },
   "file_extension": ".py",
   "mimetype": "text/x-python",
   "name": "python",
   "nbconvert_exporter": "python",
   "pygments_lexer": "ipython3",
   "version": "3.9.13"
  }
 },
 "nbformat": 4,
 "nbformat_minor": 5
}
